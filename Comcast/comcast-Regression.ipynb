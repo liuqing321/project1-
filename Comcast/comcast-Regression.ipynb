{
 "cells": [
  {
   "cell_type": "code",
   "execution_count": 38,
   "id": "389d5bd8",
   "metadata": {},
   "outputs": [],
   "source": [
    "import pandas as pd\n",
    "df=pd.read_csv('data.csv')"
   ]
  },
  {
   "cell_type": "code",
   "execution_count": 39,
   "id": "99d1d3b4",
   "metadata": {},
   "outputs": [
    {
     "data": {
      "text/html": [
       "<div>\n",
       "<style scoped>\n",
       "    .dataframe tbody tr th:only-of-type {\n",
       "        vertical-align: middle;\n",
       "    }\n",
       "\n",
       "    .dataframe tbody tr th {\n",
       "        vertical-align: top;\n",
       "    }\n",
       "\n",
       "    .dataframe thead th {\n",
       "        text-align: right;\n",
       "    }\n",
       "</style>\n",
       "<table border=\"1\" class=\"dataframe\">\n",
       "  <thead>\n",
       "    <tr style=\"text-align: right;\">\n",
       "      <th></th>\n",
       "      <th>ACCOUNT_NUMBER</th>\n",
       "      <th>COMPANY_AREA</th>\n",
       "      <th>GEOGRAPHIC_AREA</th>\n",
       "      <th>MONTH_NAME</th>\n",
       "      <th>YEAR_NAME</th>\n",
       "      <th>MONTH_YEAR</th>\n",
       "      <th>TYPE_OF_ACTIVITY</th>\n",
       "      <th>PRODUCT_COMBO</th>\n",
       "      <th>INTERNET_SPEED</th>\n",
       "      <th>SOURCE_OF_SALE</th>\n",
       "      <th>TYPE_OF_CONNECT_INSTALL</th>\n",
       "      <th>CUSTOMER_DISCONNECT_REASON</th>\n",
       "      <th>MONTHLY_RECURRING_REVENUE</th>\n",
       "      <th>EXPENSE_SALES_AND_MARKETING</th>\n",
       "      <th>EXPENSE_CONNECT_INSTALL</th>\n",
       "      <th>EXPENSE_PRODUCT_SUPPORT</th>\n",
       "      <th>TOTAL_EXPENSE</th>\n",
       "      <th>TOTAL_MARGIN</th>\n",
       "    </tr>\n",
       "  </thead>\n",
       "  <tbody>\n",
       "    <tr>\n",
       "      <th>0</th>\n",
       "      <td>75912493</td>\n",
       "      <td>MID-ATLANTIC AREA</td>\n",
       "      <td>SOUTH-WEST</td>\n",
       "      <td>FEB</td>\n",
       "      <td>2019</td>\n",
       "      <td>FEB-2019</td>\n",
       "      <td>CONNECT</td>\n",
       "      <td>INTERNET &amp; TV</td>\n",
       "      <td>FASTER</td>\n",
       "      <td>ONLINE</td>\n",
       "      <td>CUSTOMER SELF INSTALL</td>\n",
       "      <td>NaN</td>\n",
       "      <td>$75.00</td>\n",
       "      <td>-$18.00</td>\n",
       "      <td>-$5.00</td>\n",
       "      <td>-$20.00</td>\n",
       "      <td>-$43.00</td>\n",
       "      <td>$32.00</td>\n",
       "    </tr>\n",
       "    <tr>\n",
       "      <th>1</th>\n",
       "      <td>75912494</td>\n",
       "      <td>MID-ATLANTIC AREA</td>\n",
       "      <td>WEST</td>\n",
       "      <td>MAR</td>\n",
       "      <td>2019</td>\n",
       "      <td>MAR-2019</td>\n",
       "      <td>DISCONNECT</td>\n",
       "      <td>INTERNET &amp; TV &amp; PHONE</td>\n",
       "      <td>FASTER</td>\n",
       "      <td>NaN</td>\n",
       "      <td>NaN</td>\n",
       "      <td>COMPETITION</td>\n",
       "      <td>-$75.00</td>\n",
       "      <td>$0.00</td>\n",
       "      <td>$0.00</td>\n",
       "      <td>$0.00</td>\n",
       "      <td>$0.00</td>\n",
       "      <td>-$75.00</td>\n",
       "    </tr>\n",
       "    <tr>\n",
       "      <th>2</th>\n",
       "      <td>75912495</td>\n",
       "      <td>MID-ATLANTIC AREA</td>\n",
       "      <td>EAST</td>\n",
       "      <td>FEB</td>\n",
       "      <td>2020</td>\n",
       "      <td>FEB-2020</td>\n",
       "      <td>CONNECT</td>\n",
       "      <td>INTERNET ONLY</td>\n",
       "      <td>FASTER</td>\n",
       "      <td>STORE/RETAIL</td>\n",
       "      <td>CUSTOMER SELF INSTALL</td>\n",
       "      <td>NaN</td>\n",
       "      <td>$75.00</td>\n",
       "      <td>-$15.00</td>\n",
       "      <td>-$5.00</td>\n",
       "      <td>-$5.00</td>\n",
       "      <td>-$25.00</td>\n",
       "      <td>$50.00</td>\n",
       "    </tr>\n",
       "    <tr>\n",
       "      <th>3</th>\n",
       "      <td>75912496</td>\n",
       "      <td>MID-ATLANTIC AREA</td>\n",
       "      <td>EAST</td>\n",
       "      <td>MAR</td>\n",
       "      <td>2020</td>\n",
       "      <td>MAR-2020</td>\n",
       "      <td>DISCONNECT</td>\n",
       "      <td>INTERNET &amp; TV &amp; PHONE</td>\n",
       "      <td>FASTEST</td>\n",
       "      <td>NaN</td>\n",
       "      <td>NaN</td>\n",
       "      <td>MOVED</td>\n",
       "      <td>-$100.00</td>\n",
       "      <td>$0.00</td>\n",
       "      <td>$0.00</td>\n",
       "      <td>$0.00</td>\n",
       "      <td>$0.00</td>\n",
       "      <td>-$100.00</td>\n",
       "    </tr>\n",
       "    <tr>\n",
       "      <th>4</th>\n",
       "      <td>75912497</td>\n",
       "      <td>MID-ATLANTIC AREA</td>\n",
       "      <td>NORTH</td>\n",
       "      <td>JAN</td>\n",
       "      <td>2020</td>\n",
       "      <td>JAN-2020</td>\n",
       "      <td>DISCONNECT</td>\n",
       "      <td>INTERNET ONLY</td>\n",
       "      <td>FAST</td>\n",
       "      <td>NaN</td>\n",
       "      <td>NaN</td>\n",
       "      <td>UNKNOWN</td>\n",
       "      <td>-$50.00</td>\n",
       "      <td>$0.00</td>\n",
       "      <td>$0.00</td>\n",
       "      <td>$0.00</td>\n",
       "      <td>$0.00</td>\n",
       "      <td>-$50.00</td>\n",
       "    </tr>\n",
       "  </tbody>\n",
       "</table>\n",
       "</div>"
      ],
      "text/plain": [
       "   ACCOUNT_NUMBER       COMPANY_AREA GEOGRAPHIC_AREA MONTH_NAME  YEAR_NAME  \\\n",
       "0        75912493  MID-ATLANTIC AREA      SOUTH-WEST        FEB       2019   \n",
       "1        75912494  MID-ATLANTIC AREA            WEST        MAR       2019   \n",
       "2        75912495  MID-ATLANTIC AREA            EAST        FEB       2020   \n",
       "3        75912496  MID-ATLANTIC AREA            EAST        MAR       2020   \n",
       "4        75912497  MID-ATLANTIC AREA           NORTH        JAN       2020   \n",
       "\n",
       "  MONTH_YEAR TYPE_OF_ACTIVITY          PRODUCT_COMBO INTERNET_SPEED  \\\n",
       "0   FEB-2019          CONNECT          INTERNET & TV         FASTER   \n",
       "1   MAR-2019       DISCONNECT  INTERNET & TV & PHONE         FASTER   \n",
       "2   FEB-2020          CONNECT          INTERNET ONLY         FASTER   \n",
       "3   MAR-2020       DISCONNECT  INTERNET & TV & PHONE        FASTEST   \n",
       "4   JAN-2020       DISCONNECT          INTERNET ONLY           FAST   \n",
       "\n",
       "  SOURCE_OF_SALE TYPE_OF_CONNECT_INSTALL CUSTOMER_DISCONNECT_REASON  \\\n",
       "0         ONLINE   CUSTOMER SELF INSTALL                        NaN   \n",
       "1            NaN                     NaN                COMPETITION   \n",
       "2   STORE/RETAIL   CUSTOMER SELF INSTALL                        NaN   \n",
       "3            NaN                     NaN                      MOVED   \n",
       "4            NaN                     NaN                    UNKNOWN   \n",
       "\n",
       "  MONTHLY_RECURRING_REVENUE EXPENSE_SALES_AND_MARKETING  \\\n",
       "0                    $75.00                     -$18.00   \n",
       "1                   -$75.00                       $0.00   \n",
       "2                    $75.00                     -$15.00   \n",
       "3                  -$100.00                       $0.00   \n",
       "4                   -$50.00                       $0.00   \n",
       "\n",
       "  EXPENSE_CONNECT_INSTALL EXPENSE_PRODUCT_SUPPORT TOTAL_EXPENSE TOTAL_MARGIN  \n",
       "0                  -$5.00                 -$20.00       -$43.00       $32.00  \n",
       "1                   $0.00                   $0.00         $0.00      -$75.00  \n",
       "2                  -$5.00                  -$5.00       -$25.00       $50.00  \n",
       "3                   $0.00                   $0.00         $0.00     -$100.00  \n",
       "4                   $0.00                   $0.00         $0.00      -$50.00  "
      ]
     },
     "execution_count": 39,
     "metadata": {},
     "output_type": "execute_result"
    }
   ],
   "source": [
    "df.head()"
   ]
  },
  {
   "cell_type": "code",
   "execution_count": 40,
   "id": "ead545a5",
   "metadata": {},
   "outputs": [],
   "source": [
    "import numpy as np"
   ]
  },
  {
   "cell_type": "code",
   "execution_count": 41,
   "id": "8fa4ae66",
   "metadata": {},
   "outputs": [],
   "source": [
    "# customer coneects "
   ]
  },
  {
   "cell_type": "code",
   "execution_count": 42,
   "id": "29ce6062",
   "metadata": {},
   "outputs": [],
   "source": [
    "jan=df.loc[(df['YEAR_NAME']==2019)&(df['MONTH_NAME']=='JAN')&(df['TYPE_OF_ACTIVITY']=='CONNECT')]"
   ]
  },
  {
   "cell_type": "code",
   "execution_count": 43,
   "id": "43ec1924",
   "metadata": {},
   "outputs": [
    {
     "data": {
      "text/plain": [
       "1861"
      ]
     },
     "execution_count": 43,
     "metadata": {},
     "output_type": "execute_result"
    }
   ],
   "source": [
    "jan['ACCOUNT_NUMBER'].nunique()"
   ]
  },
  {
   "cell_type": "code",
   "execution_count": 44,
   "id": "1b12148d",
   "metadata": {},
   "outputs": [
    {
     "data": {
      "text/plain": [
       "2118"
      ]
     },
     "execution_count": 44,
     "metadata": {},
     "output_type": "execute_result"
    }
   ],
   "source": [
    "feb=df.loc[(df['YEAR_NAME']==2019)&(df['MONTH_NAME']=='FEB')&(df['TYPE_OF_ACTIVITY']=='CONNECT')]\n",
    "feb['ACCOUNT_NUMBER'].nunique()"
   ]
  },
  {
   "cell_type": "code",
   "execution_count": 45,
   "id": "d5ee96fe",
   "metadata": {},
   "outputs": [
    {
     "data": {
      "text/plain": [
       "2068"
      ]
     },
     "execution_count": 45,
     "metadata": {},
     "output_type": "execute_result"
    }
   ],
   "source": [
    "mar=df.loc[(df['YEAR_NAME']==2019)&(df['MONTH_NAME']=='MAR')&(df['TYPE_OF_ACTIVITY']=='CONNECT')]\n",
    "mar['ACCOUNT_NUMBER'].nunique()"
   ]
  },
  {
   "cell_type": "code",
   "execution_count": 46,
   "id": "1662e454",
   "metadata": {},
   "outputs": [
    {
     "data": {
      "text/plain": [
       "1970"
      ]
     },
     "execution_count": 46,
     "metadata": {},
     "output_type": "execute_result"
    }
   ],
   "source": [
    "feb20=df.loc[(df['YEAR_NAME']==2020)&(df['MONTH_NAME']=='FEB')&(df['TYPE_OF_ACTIVITY']=='CONNECT')]\n",
    "feb20['ACCOUNT_NUMBER'].nunique()"
   ]
  },
  {
   "cell_type": "code",
   "execution_count": 47,
   "id": "f6714e23",
   "metadata": {},
   "outputs": [
    {
     "data": {
      "text/plain": [
       "2174"
      ]
     },
     "execution_count": 47,
     "metadata": {},
     "output_type": "execute_result"
    }
   ],
   "source": [
    "mar20=df.loc[(df['YEAR_NAME']==2020)&(df['MONTH_NAME']=='MAR')&(df['TYPE_OF_ACTIVITY']=='CONNECT')]\n",
    "mar20['ACCOUNT_NUMBER'].nunique()"
   ]
  },
  {
   "cell_type": "code",
   "execution_count": null,
   "id": "6c639c21",
   "metadata": {},
   "outputs": [],
   "source": [
    "# customer disconnects "
   ]
  },
  {
   "cell_type": "code",
   "execution_count": 48,
   "id": "a8eb3372",
   "metadata": {},
   "outputs": [
    {
     "data": {
      "text/plain": [
       "1252"
      ]
     },
     "execution_count": 48,
     "metadata": {},
     "output_type": "execute_result"
    }
   ],
   "source": [
    "jan19=df.loc[(df['YEAR_NAME']==2019)&(df['MONTH_NAME']=='JAN')&(df['TYPE_OF_ACTIVITY']=='DISCONNECT')]\n",
    "jan19['ACCOUNT_NUMBER'].nunique()"
   ]
  },
  {
   "cell_type": "code",
   "execution_count": 49,
   "id": "02ae22ec",
   "metadata": {},
   "outputs": [
    {
     "data": {
      "text/plain": [
       "1395"
      ]
     },
     "execution_count": 49,
     "metadata": {},
     "output_type": "execute_result"
    }
   ],
   "source": [
    "feb19=df.loc[(df['YEAR_NAME']==2019)&(df['MONTH_NAME']=='FEB')&(df['TYPE_OF_ACTIVITY']=='DISCONNECT')]\n",
    "feb19['ACCOUNT_NUMBER'].nunique()"
   ]
  },
  {
   "cell_type": "code",
   "execution_count": 50,
   "id": "ce6c62ce",
   "metadata": {},
   "outputs": [
    {
     "data": {
      "text/plain": [
       "1266"
      ]
     },
     "execution_count": 50,
     "metadata": {},
     "output_type": "execute_result"
    }
   ],
   "source": [
    "mar19=df.loc[(df['YEAR_NAME']==2019)&(df['MONTH_NAME']=='MAR')&(df['TYPE_OF_ACTIVITY']=='DISCONNECT')]\n",
    "mar19['ACCOUNT_NUMBER'].nunique()"
   ]
  },
  {
   "cell_type": "code",
   "execution_count": 51,
   "id": "a094fcf8",
   "metadata": {},
   "outputs": [
    {
     "data": {
      "text/plain": [
       "1287"
      ]
     },
     "execution_count": 51,
     "metadata": {},
     "output_type": "execute_result"
    }
   ],
   "source": [
    "jan20=df.loc[(df['YEAR_NAME']==2020)&(df['MONTH_NAME']=='JAN')&(df['TYPE_OF_ACTIVITY']=='DISCONNECT')]\n",
    "jan20['ACCOUNT_NUMBER'].nunique()"
   ]
  },
  {
   "cell_type": "code",
   "execution_count": 52,
   "id": "4cfd28c1",
   "metadata": {},
   "outputs": [
    {
     "data": {
      "text/plain": [
       "1417"
      ]
     },
     "execution_count": 52,
     "metadata": {},
     "output_type": "execute_result"
    }
   ],
   "source": [
    "feb20=df.loc[(df['YEAR_NAME']==2020)&(df['MONTH_NAME']=='FEB')&(df['TYPE_OF_ACTIVITY']=='DISCONNECT')]\n",
    "feb20['ACCOUNT_NUMBER'].nunique()"
   ]
  },
  {
   "cell_type": "code",
   "execution_count": 53,
   "id": "e32d42c9",
   "metadata": {},
   "outputs": [
    {
     "data": {
      "text/plain": [
       "1306"
      ]
     },
     "execution_count": 53,
     "metadata": {},
     "output_type": "execute_result"
    }
   ],
   "source": [
    "mar20=df.loc[(df['YEAR_NAME']==2020)&(df['MONTH_NAME']=='MAR')&(df['TYPE_OF_ACTIVITY']=='DISCONNECT')]\n",
    "mar20['ACCOUNT_NUMBER'].nunique()"
   ]
  },
  {
   "cell_type": "code",
   "execution_count": 74,
   "id": "e1dd98f5",
   "metadata": {},
   "outputs": [
    {
     "data": {
      "text/html": [
       "<div>\n",
       "<style scoped>\n",
       "    .dataframe tbody tr th:only-of-type {\n",
       "        vertical-align: middle;\n",
       "    }\n",
       "\n",
       "    .dataframe tbody tr th {\n",
       "        vertical-align: top;\n",
       "    }\n",
       "\n",
       "    .dataframe thead th {\n",
       "        text-align: right;\n",
       "    }\n",
       "</style>\n",
       "<table border=\"1\" class=\"dataframe\">\n",
       "  <thead>\n",
       "    <tr style=\"text-align: right;\">\n",
       "      <th></th>\n",
       "      <th>date</th>\n",
       "      <th>dt</th>\n",
       "      <th>connects</th>\n",
       "      <th>disconnects</th>\n",
       "    </tr>\n",
       "  </thead>\n",
       "  <tbody>\n",
       "    <tr>\n",
       "      <th>0</th>\n",
       "      <td>1/31/2019</td>\n",
       "      <td>2019031</td>\n",
       "      <td>1861</td>\n",
       "      <td>-1252</td>\n",
       "    </tr>\n",
       "    <tr>\n",
       "      <th>1</th>\n",
       "      <td>2/28/2019</td>\n",
       "      <td>2019059</td>\n",
       "      <td>2118</td>\n",
       "      <td>-1395</td>\n",
       "    </tr>\n",
       "    <tr>\n",
       "      <th>2</th>\n",
       "      <td>3/31/2019</td>\n",
       "      <td>2019090</td>\n",
       "      <td>2068</td>\n",
       "      <td>-1266</td>\n",
       "    </tr>\n",
       "    <tr>\n",
       "      <th>3</th>\n",
       "      <td>4/30/2019</td>\n",
       "      <td>2019120</td>\n",
       "      <td>2069</td>\n",
       "      <td>-1323</td>\n",
       "    </tr>\n",
       "    <tr>\n",
       "      <th>4</th>\n",
       "      <td>5/31/2019</td>\n",
       "      <td>2019151</td>\n",
       "      <td>2031</td>\n",
       "      <td>-1434</td>\n",
       "    </tr>\n",
       "    <tr>\n",
       "      <th>5</th>\n",
       "      <td>6/30/2019</td>\n",
       "      <td>2019181</td>\n",
       "      <td>2016</td>\n",
       "      <td>-1279</td>\n",
       "    </tr>\n",
       "    <tr>\n",
       "      <th>6</th>\n",
       "      <td>1/31/2020</td>\n",
       "      <td>2020031</td>\n",
       "      <td>1885</td>\n",
       "      <td>-1287</td>\n",
       "    </tr>\n",
       "    <tr>\n",
       "      <th>7</th>\n",
       "      <td>2/29/2020</td>\n",
       "      <td>2020060</td>\n",
       "      <td>1970</td>\n",
       "      <td>-1417</td>\n",
       "    </tr>\n",
       "    <tr>\n",
       "      <th>8</th>\n",
       "      <td>3/31/2020</td>\n",
       "      <td>2020091</td>\n",
       "      <td>2174</td>\n",
       "      <td>-1306</td>\n",
       "    </tr>\n",
       "  </tbody>\n",
       "</table>\n",
       "</div>"
      ],
      "text/plain": [
       "        date       dt  connects  disconnects\n",
       "0  1/31/2019  2019031      1861        -1252\n",
       "1  2/28/2019  2019059      2118        -1395\n",
       "2  3/31/2019  2019090      2068        -1266\n",
       "3  4/30/2019  2019120      2069        -1323\n",
       "4  5/31/2019  2019151      2031        -1434\n",
       "5  6/30/2019  2019181      2016        -1279\n",
       "6  1/31/2020  2020031      1885        -1287\n",
       "7  2/29/2020  2020060      1970        -1417\n",
       "8  3/31/2020  2020091      2174        -1306"
      ]
     },
     "execution_count": 74,
     "metadata": {},
     "output_type": "execute_result"
    }
   ],
   "source": [
    "new_df=pd.read_csv('connects.csv')\n",
    "new_df"
   ]
  },
  {
   "cell_type": "code",
   "execution_count": 75,
   "id": "3d4b3dac",
   "metadata": {},
   "outputs": [
    {
     "data": {
      "text/plain": [
       "<AxesSubplot:>"
      ]
     },
     "execution_count": 75,
     "metadata": {},
     "output_type": "execute_result"
    },
    {
     "data": {
      "image/png": "[encoded data removed]",
      "text/plain": [
       "<Figure size 864x576 with 1 Axes>"
      ]
     },
     "metadata": {
      "needs_background": "light"
     },
     "output_type": "display_data"
    }
   ],
   "source": [
    "temp = new_df['connects']\n",
    "temp.plot(figsize=(12,8))"
   ]
  },
  {
   "cell_type": "code",
   "execution_count": 76,
   "id": "45f8eecf",
   "metadata": {},
   "outputs": [
    {
     "data": {
      "text/plain": [
       "<AxesSubplot:>"
      ]
     },
     "execution_count": 76,
     "metadata": {},
     "output_type": "execute_result"
    },
    {
     "data": {
      "image/png": "[encoded data removed]",
      "text/plain": [
       "<Figure size 864x576 with 1 Axes>"
      ]
     },
     "metadata": {
      "needs_background": "light"
     },
     "output_type": "display_data"
    }
   ],
   "source": [
    "temp2 = new_df['disconnects']\n",
    "temp2.plot(figsize=(12,8))"
   ]
  },
  {
   "cell_type": "code",
   "execution_count": 77,
   "id": "a6de35c4",
   "metadata": {},
   "outputs": [],
   "source": [
    "from sklearn.datasets import make_regression\n",
    "from sklearn.linear_model import LinearRegression\n",
    "import numpy as np\n",
    "import matplotlib.pyplot as plt\n",
    "import pandas as pd \n",
    "from sklearn import linear_model"
   ]
  },
  {
   "cell_type": "code",
   "execution_count": 78,
   "id": "d68386c7",
   "metadata": {},
   "outputs": [],
   "source": [
    "from sklearn import preprocessing\n",
    "from sklearn.model_selection import train_test_split\n",
    "from sklearn.linear_model import LinearRegression\n",
    "from sklearn.metrics import r2_score\n",
    "from sklearn.metrics import mean_squared_error"
   ]
  },
  {
   "cell_type": "code",
   "execution_count": 79,
   "id": "06afcd08",
   "metadata": {},
   "outputs": [
    {
     "data": {
      "text/html": [
       "<div>\n",
       "<style scoped>\n",
       "    .dataframe tbody tr th:only-of-type {\n",
       "        vertical-align: middle;\n",
       "    }\n",
       "\n",
       "    .dataframe tbody tr th {\n",
       "        vertical-align: top;\n",
       "    }\n",
       "\n",
       "    .dataframe thead th {\n",
       "        text-align: right;\n",
       "    }\n",
       "</style>\n",
       "<table border=\"1\" class=\"dataframe\">\n",
       "  <thead>\n",
       "    <tr style=\"text-align: right;\">\n",
       "      <th></th>\n",
       "      <th>date</th>\n",
       "      <th>dt</th>\n",
       "      <th>connects</th>\n",
       "    </tr>\n",
       "  </thead>\n",
       "  <tbody>\n",
       "    <tr>\n",
       "      <th>0</th>\n",
       "      <td>1/31/2019</td>\n",
       "      <td>2019031</td>\n",
       "      <td>1861</td>\n",
       "    </tr>\n",
       "    <tr>\n",
       "      <th>1</th>\n",
       "      <td>2/28/2019</td>\n",
       "      <td>2019059</td>\n",
       "      <td>2118</td>\n",
       "    </tr>\n",
       "    <tr>\n",
       "      <th>2</th>\n",
       "      <td>3/31/2019</td>\n",
       "      <td>2019090</td>\n",
       "      <td>2068</td>\n",
       "    </tr>\n",
       "    <tr>\n",
       "      <th>3</th>\n",
       "      <td>4/30/2019</td>\n",
       "      <td>2019120</td>\n",
       "      <td>2069</td>\n",
       "    </tr>\n",
       "    <tr>\n",
       "      <th>4</th>\n",
       "      <td>5/31/2019</td>\n",
       "      <td>2019151</td>\n",
       "      <td>2031</td>\n",
       "    </tr>\n",
       "    <tr>\n",
       "      <th>5</th>\n",
       "      <td>6/30/2019</td>\n",
       "      <td>2019181</td>\n",
       "      <td>2016</td>\n",
       "    </tr>\n",
       "    <tr>\n",
       "      <th>6</th>\n",
       "      <td>1/31/2020</td>\n",
       "      <td>2020031</td>\n",
       "      <td>1885</td>\n",
       "    </tr>\n",
       "    <tr>\n",
       "      <th>7</th>\n",
       "      <td>2/29/2020</td>\n",
       "      <td>2020060</td>\n",
       "      <td>1970</td>\n",
       "    </tr>\n",
       "    <tr>\n",
       "      <th>8</th>\n",
       "      <td>3/31/2020</td>\n",
       "      <td>2020091</td>\n",
       "      <td>2174</td>\n",
       "    </tr>\n",
       "  </tbody>\n",
       "</table>\n",
       "</div>"
      ],
      "text/plain": [
       "        date       dt  connects\n",
       "0  1/31/2019  2019031      1861\n",
       "1  2/28/2019  2019059      2118\n",
       "2  3/31/2019  2019090      2068\n",
       "3  4/30/2019  2019120      2069\n",
       "4  5/31/2019  2019151      2031\n",
       "5  6/30/2019  2019181      2016\n",
       "6  1/31/2020  2020031      1885\n",
       "7  2/29/2020  2020060      1970\n",
       "8  3/31/2020  2020091      2174"
      ]
     },
     "execution_count": 79,
     "metadata": {},
     "output_type": "execute_result"
    }
   ],
   "source": [
    "connects_df = new_df.drop(columns=['disconnects'])\n",
    "connects_df "
   ]
  },
  {
   "cell_type": "code",
   "execution_count": 80,
   "id": "dc001709",
   "metadata": {},
   "outputs": [],
   "source": [
    "connects_df=new_df.drop(columns=['date'])"
   ]
  },
  {
   "cell_type": "code",
   "execution_count": 81,
   "id": "8126feea",
   "metadata": {},
   "outputs": [
    {
     "data": {
      "text/plain": [
       "dt             int64\n",
       "connects       int64\n",
       "disconnects    int64\n",
       "dtype: object"
      ]
     },
     "execution_count": 81,
     "metadata": {},
     "output_type": "execute_result"
    }
   ],
   "source": [
    "connects_df.dtypes\n"
   ]
  },
  {
   "cell_type": "code",
   "execution_count": 82,
   "id": "dc9ef8e8",
   "metadata": {},
   "outputs": [
    {
     "data": {
      "text/plain": [
       "0    2019031\n",
       "1    2019059\n",
       "2    2019090\n",
       "3    2019120\n",
       "4    2019151\n",
       "5    2019181\n",
       "6    2020031\n",
       "7    2020060\n",
       "8    2020091\n",
       "Name: dt, dtype: int64"
      ]
     },
     "execution_count": 82,
     "metadata": {},
     "output_type": "execute_result"
    }
   ],
   "source": [
    "connects_df['dt']"
   ]
  },
  {
   "cell_type": "code",
   "execution_count": 83,
   "id": "906c63c0",
   "metadata": {},
   "outputs": [
    {
     "data": {
      "text/html": [
       "<div>\n",
       "<style scoped>\n",
       "    .dataframe tbody tr th:only-of-type {\n",
       "        vertical-align: middle;\n",
       "    }\n",
       "\n",
       "    .dataframe tbody tr th {\n",
       "        vertical-align: top;\n",
       "    }\n",
       "\n",
       "    .dataframe thead th {\n",
       "        text-align: right;\n",
       "    }\n",
       "</style>\n",
       "<table border=\"1\" class=\"dataframe\">\n",
       "  <thead>\n",
       "    <tr style=\"text-align: right;\">\n",
       "      <th></th>\n",
       "      <th>dt</th>\n",
       "      <th>connects</th>\n",
       "      <th>disconnects</th>\n",
       "    </tr>\n",
       "  </thead>\n",
       "  <tbody>\n",
       "    <tr>\n",
       "      <th>0</th>\n",
       "      <td>2019031</td>\n",
       "      <td>1861</td>\n",
       "      <td>-1252</td>\n",
       "    </tr>\n",
       "    <tr>\n",
       "      <th>1</th>\n",
       "      <td>2019059</td>\n",
       "      <td>2118</td>\n",
       "      <td>-1395</td>\n",
       "    </tr>\n",
       "    <tr>\n",
       "      <th>2</th>\n",
       "      <td>2019090</td>\n",
       "      <td>2068</td>\n",
       "      <td>-1266</td>\n",
       "    </tr>\n",
       "    <tr>\n",
       "      <th>3</th>\n",
       "      <td>2019120</td>\n",
       "      <td>2069</td>\n",
       "      <td>-1323</td>\n",
       "    </tr>\n",
       "    <tr>\n",
       "      <th>4</th>\n",
       "      <td>2019151</td>\n",
       "      <td>2031</td>\n",
       "      <td>-1434</td>\n",
       "    </tr>\n",
       "    <tr>\n",
       "      <th>5</th>\n",
       "      <td>2019181</td>\n",
       "      <td>2016</td>\n",
       "      <td>-1279</td>\n",
       "    </tr>\n",
       "    <tr>\n",
       "      <th>6</th>\n",
       "      <td>2020031</td>\n",
       "      <td>1885</td>\n",
       "      <td>-1287</td>\n",
       "    </tr>\n",
       "    <tr>\n",
       "      <th>7</th>\n",
       "      <td>2020060</td>\n",
       "      <td>1970</td>\n",
       "      <td>-1417</td>\n",
       "    </tr>\n",
       "    <tr>\n",
       "      <th>8</th>\n",
       "      <td>2020091</td>\n",
       "      <td>2174</td>\n",
       "      <td>-1306</td>\n",
       "    </tr>\n",
       "  </tbody>\n",
       "</table>\n",
       "</div>"
      ],
      "text/plain": [
       "        dt  connects  disconnects\n",
       "0  2019031      1861        -1252\n",
       "1  2019059      2118        -1395\n",
       "2  2019090      2068        -1266\n",
       "3  2019120      2069        -1323\n",
       "4  2019151      2031        -1434\n",
       "5  2019181      2016        -1279\n",
       "6  2020031      1885        -1287\n",
       "7  2020060      1970        -1417\n",
       "8  2020091      2174        -1306"
      ]
     },
     "execution_count": 83,
     "metadata": {},
     "output_type": "execute_result"
    }
   ],
   "source": [
    "connects_df"
   ]
  },
  {
   "cell_type": "code",
   "execution_count": 86,
   "id": "7a36bfe7",
   "metadata": {},
   "outputs": [],
   "source": [
    "x1 = np.array(connects_df['dt'].values)\n",
    "y = connects_df['connects'].values\n",
    "y1 = np.array(y)\n",
    "\n",
    "x1=x1.reshape(-1,1)\n",
    "y1=y1.reshape(-1,1)"
   ]
  },
  {
   "cell_type": "code",
   "execution_count": 87,
   "id": "7ee29d3f",
   "metadata": {},
   "outputs": [],
   "source": [
    "from sklearn.model_selection import train_test_split\n",
    "X_train,X_test,y_train,y_test=train_test_split(x1,y1,test_size=0.4)"
   ]
  },
  {
   "cell_type": "code",
   "execution_count": 88,
   "id": "4bb5ee04",
   "metadata": {},
   "outputs": [
    {
     "data": {
      "text/plain": [
       "LinearRegression()"
      ]
     },
     "execution_count": 88,
     "metadata": {},
     "output_type": "execute_result"
    }
   ],
   "source": [
    "lr=LinearRegression()\n",
    "lr.fit(X_train,y_train)"
   ]
  },
  {
   "cell_type": "code",
   "execution_count": 89,
   "id": "30565c6b",
   "metadata": {},
   "outputs": [
    {
     "name": "stdout",
     "output_type": "stream",
     "text": [
      "-0.1126772050481808\n",
      "10358.468440396038\n"
     ]
    }
   ],
   "source": [
    "y_pred=lr.predict(X_test)\n",
    "print(r2_score(y_test,y_pred))\n",
    "print(mean_squared_error(y_test,y_pred))"
   ]
  },
  {
   "cell_type": "code",
   "execution_count": 90,
   "id": "fc7797b7",
   "metadata": {},
   "outputs": [
    {
     "data": {
      "text/plain": [
       "LinearRegression()"
      ]
     },
     "execution_count": 90,
     "metadata": {},
     "output_type": "execute_result"
    }
   ],
   "source": [
    "lr.fit(x1,y1)"
   ]
  },
  {
   "cell_type": "code",
   "execution_count": 91,
   "id": "9e742a96",
   "metadata": {},
   "outputs": [
    {
     "name": "stdout",
     "output_type": "stream",
     "text": [
      "Slope: -0.009\n",
      "Intercept : 20939.920\n"
     ]
    }
   ],
   "source": [
    "print('Slope: %.3f' % lr.coef_[0]) \n",
    "print('Intercept : %.3f' % lr.intercept_) "
   ]
  },
  {
   "cell_type": "code",
   "execution_count": 92,
   "id": "2249cb8a",
   "metadata": {
    "scrolled": true
   },
   "outputs": [
    {
     "data": {
      "text/plain": [
       "{'Predict': array([[2047.55847905],\n",
       "        [2048.54127543],\n",
       "        [2045.41738694],\n",
       "        [2043.27629484]]),\n",
       " 'True': array([[2118],\n",
       "        [1861],\n",
       "        [2069],\n",
       "        [2016]], dtype=int64)}"
      ]
     },
     "execution_count": 92,
     "metadata": {},
     "output_type": "execute_result"
    }
   ],
   "source": [
    "d = {'Predict':y_pred,'True':y_test}\n",
    "d"
   ]
  },
  {
   "cell_type": "code",
   "execution_count": 95,
   "id": "4ed3f2c7",
   "metadata": {},
   "outputs": [
    {
     "data": {
      "text/html": [
       "<div>\n",
       "<style scoped>\n",
       "    .dataframe tbody tr th:only-of-type {\n",
       "        vertical-align: middle;\n",
       "    }\n",
       "\n",
       "    .dataframe tbody tr th {\n",
       "        vertical-align: top;\n",
       "    }\n",
       "\n",
       "    .dataframe thead th {\n",
       "        text-align: right;\n",
       "    }\n",
       "</style>\n",
       "<table border=\"1\" class=\"dataframe\">\n",
       "  <thead>\n",
       "    <tr style=\"text-align: right;\">\n",
       "      <th></th>\n",
       "      <th>date</th>\n",
       "    </tr>\n",
       "  </thead>\n",
       "  <tbody>\n",
       "    <tr>\n",
       "      <th>0</th>\n",
       "      <td>2020121</td>\n",
       "    </tr>\n",
       "    <tr>\n",
       "      <th>1</th>\n",
       "      <td>2020152</td>\n",
       "    </tr>\n",
       "    <tr>\n",
       "      <th>2</th>\n",
       "      <td>2020182</td>\n",
       "    </tr>\n",
       "  </tbody>\n",
       "</table>\n",
       "</div>"
      ],
      "text/plain": [
       "      date\n",
       "0  2020121\n",
       "1  2020152\n",
       "2  2020182"
      ]
     },
     "execution_count": 95,
     "metadata": {},
     "output_type": "execute_result"
    }
   ],
   "source": [
    "source = {'date':['2020121','2020152','2020182']}\n",
    "new_date = pd.DataFrame(data=source)\n",
    "new_date"
   ]
  },
  {
   "cell_type": "code",
   "execution_count": 99,
   "id": "f342a907",
   "metadata": {},
   "outputs": [],
   "source": [
    "x2 = np.array(new_date['date'].values)\n",
    "x2=x2.reshape(-1,1)"
   ]
  },
  {
   "cell_type": "code",
   "execution_count": 100,
   "id": "25e8e9d0",
   "metadata": {},
   "outputs": [
    {
     "data": {
      "text/plain": [
       "array([[2014.80153987],\n",
       "       [2014.51112228],\n",
       "       [2014.230073  ]])"
      ]
     },
     "execution_count": 100,
     "metadata": {},
     "output_type": "execute_result"
    }
   ],
   "source": [
    "lr.predict(x2)"
   ]
  },
  {
   "cell_type": "code",
   "execution_count": 110,
   "id": "86468623",
   "metadata": {},
   "outputs": [],
   "source": [
    "disconnects_df=connects_df.drop(columns=['connects'])"
   ]
  },
  {
   "cell_type": "code",
   "execution_count": 121,
   "id": "6276de33",
   "metadata": {},
   "outputs": [
    {
     "data": {
      "text/html": [
       "<div>\n",
       "<style scoped>\n",
       "    .dataframe tbody tr th:only-of-type {\n",
       "        vertical-align: middle;\n",
       "    }\n",
       "\n",
       "    .dataframe tbody tr th {\n",
       "        vertical-align: top;\n",
       "    }\n",
       "\n",
       "    .dataframe thead th {\n",
       "        text-align: right;\n",
       "    }\n",
       "</style>\n",
       "<table border=\"1\" class=\"dataframe\">\n",
       "  <thead>\n",
       "    <tr style=\"text-align: right;\">\n",
       "      <th></th>\n",
       "      <th>dt</th>\n",
       "      <th>disconnects</th>\n",
       "    </tr>\n",
       "  </thead>\n",
       "  <tbody>\n",
       "    <tr>\n",
       "      <th>0</th>\n",
       "      <td>2019031</td>\n",
       "      <td>-1252</td>\n",
       "    </tr>\n",
       "    <tr>\n",
       "      <th>1</th>\n",
       "      <td>2019059</td>\n",
       "      <td>-1395</td>\n",
       "    </tr>\n",
       "    <tr>\n",
       "      <th>2</th>\n",
       "      <td>2019090</td>\n",
       "      <td>-1266</td>\n",
       "    </tr>\n",
       "    <tr>\n",
       "      <th>3</th>\n",
       "      <td>2019120</td>\n",
       "      <td>-1323</td>\n",
       "    </tr>\n",
       "    <tr>\n",
       "      <th>4</th>\n",
       "      <td>2019151</td>\n",
       "      <td>-1434</td>\n",
       "    </tr>\n",
       "    <tr>\n",
       "      <th>5</th>\n",
       "      <td>2019181</td>\n",
       "      <td>-1279</td>\n",
       "    </tr>\n",
       "    <tr>\n",
       "      <th>6</th>\n",
       "      <td>2020031</td>\n",
       "      <td>-1287</td>\n",
       "    </tr>\n",
       "    <tr>\n",
       "      <th>7</th>\n",
       "      <td>2020060</td>\n",
       "      <td>-1417</td>\n",
       "    </tr>\n",
       "    <tr>\n",
       "      <th>8</th>\n",
       "      <td>2020091</td>\n",
       "      <td>-1306</td>\n",
       "    </tr>\n",
       "  </tbody>\n",
       "</table>\n",
       "</div>"
      ],
      "text/plain": [
       "        dt  disconnects\n",
       "0  2019031        -1252\n",
       "1  2019059        -1395\n",
       "2  2019090        -1266\n",
       "3  2019120        -1323\n",
       "4  2019151        -1434\n",
       "5  2019181        -1279\n",
       "6  2020031        -1287\n",
       "7  2020060        -1417\n",
       "8  2020091        -1306"
      ]
     },
     "execution_count": 121,
     "metadata": {},
     "output_type": "execute_result"
    }
   ],
   "source": [
    "disconnects_df"
   ]
  },
  {
   "cell_type": "code",
   "execution_count": 122,
   "id": "17ae50c1",
   "metadata": {},
   "outputs": [],
   "source": [
    "x3 = np.array(disconnects_df['dt'].values)\n",
    "y = disconnects_df['disconnects'].values\n",
    "y3 = np.array(y)\n",
    "\n",
    "x3=x3.reshape(-1,1)\n",
    "y3=y3.reshape(-1,1)"
   ]
  },
  {
   "cell_type": "code",
   "execution_count": 123,
   "id": "25f5c732",
   "metadata": {},
   "outputs": [
    {
     "data": {
      "text/plain": [
       "LinearRegression()"
      ]
     },
     "execution_count": 123,
     "metadata": {},
     "output_type": "execute_result"
    }
   ],
   "source": [
    "from sklearn.model_selection import train_test_split\n",
    "X_train,X_test,y_train,y_test=train_test_split(x3,y3,test_size=0.4)\n",
    "lr=LinearRegression()\n",
    "lr.fit(X_train,y_train)"
   ]
  },
  {
   "cell_type": "code",
   "execution_count": 124,
   "id": "7f653d15",
   "metadata": {},
   "outputs": [
    {
     "name": "stdout",
     "output_type": "stream",
     "text": [
      "-0.5602081243484722\n",
      "2878.096424384072\n"
     ]
    }
   ],
   "source": [
    "y_pred=lr.predict(X_test)\n",
    "print(r2_score(y_test,y_pred))\n",
    "print(mean_squared_error(y_test,y_pred))"
   ]
  },
  {
   "cell_type": "code",
   "execution_count": 125,
   "id": "469f69cb",
   "metadata": {},
   "outputs": [
    {
     "data": {
      "text/plain": [
       "LinearRegression()"
      ]
     },
     "execution_count": 125,
     "metadata": {},
     "output_type": "execute_result"
    }
   ],
   "source": [
    "lr.fit(x3,y3)"
   ]
  },
  {
   "cell_type": "code",
   "execution_count": 126,
   "id": "0db0fad9",
   "metadata": {},
   "outputs": [
    {
     "name": "stdout",
     "output_type": "stream",
     "text": [
      "Slope: -0.015\n",
      "Intercept : 28972.103\n"
     ]
    }
   ],
   "source": [
    "print('Slope: %.3f' % lr.coef_[0]) \n",
    "print('Intercept : %.3f' % lr.intercept_) "
   ]
  },
  {
   "cell_type": "code",
   "execution_count": 127,
   "id": "735b2d14",
   "metadata": {},
   "outputs": [
    {
     "data": {
      "text/plain": [
       "{'Predict': array([[-1311.46085086],\n",
       "        [-1314.37208901],\n",
       "        [-1317.28332715],\n",
       "        [-1360.71327328]]),\n",
       " 'True': array([[-1395],\n",
       "        [-1323],\n",
       "        [-1279],\n",
       "        [-1306]], dtype=int64)}"
      ]
     },
     "execution_count": 127,
     "metadata": {},
     "output_type": "execute_result"
    }
   ],
   "source": [
    "d = {'Predict':y_pred,'True':y_test}\n",
    "d"
   ]
  },
  {
   "cell_type": "code",
   "execution_count": 128,
   "id": "a0834e47",
   "metadata": {},
   "outputs": [],
   "source": [
    "x4 = np.array(new_date['date'].values)\n",
    "x4=x4.reshape(-1,1)"
   ]
  },
  {
   "cell_type": "code",
   "execution_count": 130,
   "id": "265afde1",
   "metadata": {},
   "outputs": [
    {
     "data": {
      "text/plain": [
       "array([[-1339.23939935],\n",
       "       [-1339.70454555],\n",
       "       [-1340.15468704]])"
      ]
     },
     "execution_count": 130,
     "metadata": {},
     "output_type": "execute_result"
    }
   ],
   "source": [
    "lr.predict(x4)"
   ]
  }
 ],
 "metadata": {
  "kernelspec": {
   "display_name": "Python 3 (ipykernel)",
   "language": "python",
   "name": "python3"
  },
  "language_info": {
   "codemirror_mode": {
    "name": "ipython",
    "version": 3
   },
   "file_extension": ".py",
   "mimetype": "text/x-python",
   "name": "python",
   "nbconvert_exporter": "python",
   "pygments_lexer": "ipython3",
   "version": "3.8.8"
  }
 },
 "nbformat": 4,
 "nbformat_minor": 5
}
