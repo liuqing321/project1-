{
 "cells": [
  {
   "cell_type": "code",
   "execution_count": 1,
   "id": "389d5bd8",
   "metadata": {},
   "outputs": [],
   "source": [
    "import pandas as pd\n",
    "df=pd.read_csv('data.csv')"
   ]
  },
  {
   "cell_type": "code",
   "execution_count": 2,
   "id": "99d1d3b4",
   "metadata": {},
   "outputs": [
    {
     "data": {
      "text/html": [
       "<div>\n",
       "<style scoped>\n",
       "    .dataframe tbody tr th:only-of-type {\n",
       "        vertical-align: middle;\n",
       "    }\n",
       "\n",
       "    .dataframe tbody tr th {\n",
       "        vertical-align: top;\n",
       "    }\n",
       "\n",
       "    .dataframe thead th {\n",
       "        text-align: right;\n",
       "    }\n",
       "</style>\n",
       "<table border=\"1\" class=\"dataframe\">\n",
       "  <thead>\n",
       "    <tr style=\"text-align: right;\">\n",
       "      <th></th>\n",
       "      <th>ACCOUNT_NUMBER</th>\n",
       "      <th>COMPANY_AREA</th>\n",
       "      <th>GEOGRAPHIC_AREA</th>\n",
       "      <th>MONTH_NAME</th>\n",
       "      <th>YEAR_NAME</th>\n",
       "      <th>MONTH_YEAR</th>\n",
       "      <th>TYPE_OF_ACTIVITY</th>\n",
       "      <th>PRODUCT_COMBO</th>\n",
       "      <th>INTERNET_SPEED</th>\n",
       "      <th>SOURCE_OF_SALE</th>\n",
       "      <th>TYPE_OF_CONNECT_INSTALL</th>\n",
       "      <th>CUSTOMER_DISCONNECT_REASON</th>\n",
       "      <th>MONTHLY_RECURRING_REVENUE</th>\n",
       "      <th>EXPENSE_SALES_AND_MARKETING</th>\n",
       "      <th>EXPENSE_CONNECT_INSTALL</th>\n",
       "      <th>EXPENSE_PRODUCT_SUPPORT</th>\n",
       "      <th>TOTAL_EXPENSE</th>\n",
       "      <th>TOTAL_MARGIN</th>\n",
       "    </tr>\n",
       "  </thead>\n",
       "  <tbody>\n",
       "    <tr>\n",
       "      <th>0</th>\n",
       "      <td>75912493</td>\n",
       "      <td>MID-ATLANTIC AREA</td>\n",
       "      <td>SOUTH-WEST</td>\n",
       "      <td>FEB</td>\n",
       "      <td>2019</td>\n",
       "      <td>FEB-2019</td>\n",
       "      <td>CONNECT</td>\n",
       "      <td>INTERNET &amp; TV</td>\n",
       "      <td>FASTER</td>\n",
       "      <td>ONLINE</td>\n",
       "      <td>CUSTOMER SELF INSTALL</td>\n",
       "      <td>NaN</td>\n",
       "      <td>$75.00</td>\n",
       "      <td>-$18.00</td>\n",
       "      <td>-$5.00</td>\n",
       "      <td>-$20.00</td>\n",
       "      <td>-$43.00</td>\n",
       "      <td>$32.00</td>\n",
       "    </tr>\n",
       "    <tr>\n",
       "      <th>1</th>\n",
       "      <td>75912494</td>\n",
       "      <td>MID-ATLANTIC AREA</td>\n",
       "      <td>WEST</td>\n",
       "      <td>MAR</td>\n",
       "      <td>2019</td>\n",
       "      <td>MAR-2019</td>\n",
       "      <td>DISCONNECT</td>\n",
       "      <td>INTERNET &amp; TV &amp; PHONE</td>\n",
       "      <td>FASTER</td>\n",
       "      <td>NaN</td>\n",
       "      <td>NaN</td>\n",
       "      <td>COMPETITION</td>\n",
       "      <td>-$75.00</td>\n",
       "      <td>$0.00</td>\n",
       "      <td>$0.00</td>\n",
       "      <td>$0.00</td>\n",
       "      <td>$0.00</td>\n",
       "      <td>-$75.00</td>\n",
       "    </tr>\n",
       "    <tr>\n",
       "      <th>2</th>\n",
       "      <td>75912495</td>\n",
       "      <td>MID-ATLANTIC AREA</td>\n",
       "      <td>EAST</td>\n",
       "      <td>FEB</td>\n",
       "      <td>2020</td>\n",
       "      <td>FEB-2020</td>\n",
       "      <td>CONNECT</td>\n",
       "      <td>INTERNET ONLY</td>\n",
       "      <td>FASTER</td>\n",
       "      <td>STORE/RETAIL</td>\n",
       "      <td>CUSTOMER SELF INSTALL</td>\n",
       "      <td>NaN</td>\n",
       "      <td>$75.00</td>\n",
       "      <td>-$15.00</td>\n",
       "      <td>-$5.00</td>\n",
       "      <td>-$5.00</td>\n",
       "      <td>-$25.00</td>\n",
       "      <td>$50.00</td>\n",
       "    </tr>\n",
       "    <tr>\n",
       "      <th>3</th>\n",
       "      <td>75912496</td>\n",
       "      <td>MID-ATLANTIC AREA</td>\n",
       "      <td>EAST</td>\n",
       "      <td>MAR</td>\n",
       "      <td>2020</td>\n",
       "      <td>MAR-2020</td>\n",
       "      <td>DISCONNECT</td>\n",
       "      <td>INTERNET &amp; TV &amp; PHONE</td>\n",
       "      <td>FASTEST</td>\n",
       "      <td>NaN</td>\n",
       "      <td>NaN</td>\n",
       "      <td>MOVED</td>\n",
       "      <td>-$100.00</td>\n",
       "      <td>$0.00</td>\n",
       "      <td>$0.00</td>\n",
       "      <td>$0.00</td>\n",
       "      <td>$0.00</td>\n",
       "      <td>-$100.00</td>\n",
       "    </tr>\n",
       "    <tr>\n",
       "      <th>4</th>\n",
       "      <td>75912497</td>\n",
       "      <td>MID-ATLANTIC AREA</td>\n",
       "      <td>NORTH</td>\n",
       "      <td>JAN</td>\n",
       "      <td>2020</td>\n",
       "      <td>JAN-2020</td>\n",
       "      <td>DISCONNECT</td>\n",
       "      <td>INTERNET ONLY</td>\n",
       "      <td>FAST</td>\n",
       "      <td>NaN</td>\n",
       "      <td>NaN</td>\n",
       "      <td>UNKNOWN</td>\n",
       "      <td>-$50.00</td>\n",
       "      <td>$0.00</td>\n",
       "      <td>$0.00</td>\n",
       "      <td>$0.00</td>\n",
       "      <td>$0.00</td>\n",
       "      <td>-$50.00</td>\n",
       "    </tr>\n",
       "  </tbody>\n",
       "</table>\n",
       "</div>"
      ],
      "text/plain": [
       "   ACCOUNT_NUMBER       COMPANY_AREA GEOGRAPHIC_AREA MONTH_NAME  YEAR_NAME  \\\n",
       "0        75912493  MID-ATLANTIC AREA      SOUTH-WEST        FEB       2019   \n",
       "1        75912494  MID-ATLANTIC AREA            WEST        MAR       2019   \n",
       "2        75912495  MID-ATLANTIC AREA            EAST        FEB       2020   \n",
       "3        75912496  MID-ATLANTIC AREA            EAST        MAR       2020   \n",
       "4        75912497  MID-ATLANTIC AREA           NORTH        JAN       2020   \n",
       "\n",
       "  MONTH_YEAR TYPE_OF_ACTIVITY          PRODUCT_COMBO INTERNET_SPEED  \\\n",
       "0   FEB-2019          CONNECT          INTERNET & TV         FASTER   \n",
       "1   MAR-2019       DISCONNECT  INTERNET & TV & PHONE         FASTER   \n",
       "2   FEB-2020          CONNECT          INTERNET ONLY         FASTER   \n",
       "3   MAR-2020       DISCONNECT  INTERNET & TV & PHONE        FASTEST   \n",
       "4   JAN-2020       DISCONNECT          INTERNET ONLY           FAST   \n",
       "\n",
       "  SOURCE_OF_SALE TYPE_OF_CONNECT_INSTALL CUSTOMER_DISCONNECT_REASON  \\\n",
       "0         ONLINE   CUSTOMER SELF INSTALL                        NaN   \n",
       "1            NaN                     NaN                COMPETITION   \n",
       "2   STORE/RETAIL   CUSTOMER SELF INSTALL                        NaN   \n",
       "3            NaN                     NaN                      MOVED   \n",
       "4            NaN                     NaN                    UNKNOWN   \n",
       "\n",
       "  MONTHLY_RECURRING_REVENUE EXPENSE_SALES_AND_MARKETING  \\\n",
       "0                    $75.00                     -$18.00   \n",
       "1                   -$75.00                       $0.00   \n",
       "2                    $75.00                     -$15.00   \n",
       "3                  -$100.00                       $0.00   \n",
       "4                   -$50.00                       $0.00   \n",
       "\n",
       "  EXPENSE_CONNECT_INSTALL EXPENSE_PRODUCT_SUPPORT TOTAL_EXPENSE TOTAL_MARGIN  \n",
       "0                  -$5.00                 -$20.00       -$43.00       $32.00  \n",
       "1                   $0.00                   $0.00         $0.00      -$75.00  \n",
       "2                  -$5.00                  -$5.00       -$25.00       $50.00  \n",
       "3                   $0.00                   $0.00         $0.00     -$100.00  \n",
       "4                   $0.00                   $0.00         $0.00      -$50.00  "
      ]
     },
     "execution_count": 2,
     "metadata": {},
     "output_type": "execute_result"
    }
   ],
   "source": [
    "df.head()"
   ]
  },
  {
   "cell_type": "code",
   "execution_count": 3,
   "id": "ead545a5",
   "metadata": {},
   "outputs": [],
   "source": [
    "import numpy as np"
   ]
  },
  {
   "cell_type": "code",
   "execution_count": null,
   "id": "8fa4ae66",
   "metadata": {},
   "outputs": [],
   "source": [
    "# customer coneects "
   ]
  },
  {
   "cell_type": "code",
   "execution_count": 6,
   "id": "29ce6062",
   "metadata": {},
   "outputs": [],
   "source": [
    "jan=df.loc[(df['YEAR_NAME']==2019)&(df['MONTH_NAME']=='JAN')&(df['TYPE_OF_ACTIVITY']=='CONNECT')]"
   ]
  },
  {
   "cell_type": "code",
   "execution_count": 11,
   "id": "43ec1924",
   "metadata": {},
   "outputs": [
    {
     "data": {
      "text/plain": [
       "1861"
      ]
     },
     "execution_count": 11,
     "metadata": {},
     "output_type": "execute_result"
    }
   ],
   "source": [
    "jan['ACCOUNT_NUMBER'].nunique()"
   ]
  },
  {
   "cell_type": "code",
   "execution_count": 12,
   "id": "1b12148d",
   "metadata": {},
   "outputs": [
    {
     "data": {
      "text/plain": [
       "2118"
      ]
     },
     "execution_count": 12,
     "metadata": {},
     "output_type": "execute_result"
    }
   ],
   "source": [
    "feb=df.loc[(df['YEAR_NAME']==2019)&(df['MONTH_NAME']=='FEB')&(df['TYPE_OF_ACTIVITY']=='CONNECT')]\n",
    "feb['ACCOUNT_NUMBER'].nunique()"
   ]
  },
  {
   "cell_type": "code",
   "execution_count": 13,
   "id": "d5ee96fe",
   "metadata": {},
   "outputs": [
    {
     "data": {
      "text/plain": [
       "2068"
      ]
     },
     "execution_count": 13,
     "metadata": {},
     "output_type": "execute_result"
    }
   ],
   "source": [
    "mar=df.loc[(df['YEAR_NAME']==2019)&(df['MONTH_NAME']=='MAR')&(df['TYPE_OF_ACTIVITY']=='CONNECT')]\n",
    "mar['ACCOUNT_NUMBER'].nunique()"
   ]
  },
  {
   "cell_type": "code",
   "execution_count": 14,
   "id": "1662e454",
   "metadata": {},
   "outputs": [
    {
     "data": {
      "text/plain": [
       "1970"
      ]
     },
     "execution_count": 14,
     "metadata": {},
     "output_type": "execute_result"
    }
   ],
   "source": [
    "feb20=df.loc[(df['YEAR_NAME']==2020)&(df['MONTH_NAME']=='FEB')&(df['TYPE_OF_ACTIVITY']=='CONNECT')]\n",
    "feb20['ACCOUNT_NUMBER'].nunique()"
   ]
  },
  {
   "cell_type": "code",
   "execution_count": 15,
   "id": "f6714e23",
   "metadata": {},
   "outputs": [
    {
     "data": {
      "text/plain": [
       "2174"
      ]
     },
     "execution_count": 15,
     "metadata": {},
     "output_type": "execute_result"
    }
   ],
   "source": [
    "mar20=df.loc[(df['YEAR_NAME']==2020)&(df['MONTH_NAME']=='MAR')&(df['TYPE_OF_ACTIVITY']=='CONNECT')]\n",
    "mar20['ACCOUNT_NUMBER'].nunique()"
   ]
  },
  {
   "cell_type": "code",
   "execution_count": null,
   "id": "6c639c21",
   "metadata": {},
   "outputs": [],
   "source": [
    "# customer disconnects "
   ]
  },
  {
   "cell_type": "code",
   "execution_count": 16,
   "id": "a8eb3372",
   "metadata": {},
   "outputs": [
    {
     "data": {
      "text/plain": [
       "1252"
      ]
     },
     "execution_count": 16,
     "metadata": {},
     "output_type": "execute_result"
    }
   ],
   "source": [
    "jan19=df.loc[(df['YEAR_NAME']==2019)&(df['MONTH_NAME']=='JAN')&(df['TYPE_OF_ACTIVITY']=='DISCONNECT')]\n",
    "jan19['ACCOUNT_NUMBER'].nunique()"
   ]
  },
  {
   "cell_type": "code",
   "execution_count": 17,
   "id": "02ae22ec",
   "metadata": {},
   "outputs": [
    {
     "data": {
      "text/plain": [
       "1395"
      ]
     },
     "execution_count": 17,
     "metadata": {},
     "output_type": "execute_result"
    }
   ],
   "source": [
    "feb19=df.loc[(df['YEAR_NAME']==2019)&(df['MONTH_NAME']=='FEB')&(df['TYPE_OF_ACTIVITY']=='DISCONNECT')]\n",
    "feb19['ACCOUNT_NUMBER'].nunique()"
   ]
  },
  {
   "cell_type": "code",
   "execution_count": 18,
   "id": "ce6c62ce",
   "metadata": {},
   "outputs": [
    {
     "data": {
      "text/plain": [
       "1266"
      ]
     },
     "execution_count": 18,
     "metadata": {},
     "output_type": "execute_result"
    }
   ],
   "source": [
    "mar19=df.loc[(df['YEAR_NAME']==2019)&(df['MONTH_NAME']=='MAR')&(df['TYPE_OF_ACTIVITY']=='DISCONNECT')]\n",
    "mar19['ACCOUNT_NUMBER'].nunique()"
   ]
  },
  {
   "cell_type": "code",
   "execution_count": 19,
   "id": "a094fcf8",
   "metadata": {},
   "outputs": [
    {
     "data": {
      "text/plain": [
       "1287"
      ]
     },
     "execution_count": 19,
     "metadata": {},
     "output_type": "execute_result"
    }
   ],
   "source": [
    "jan20=df.loc[(df['YEAR_NAME']==2020)&(df['MONTH_NAME']=='JAN')&(df['TYPE_OF_ACTIVITY']=='DISCONNECT')]\n",
    "jan20['ACCOUNT_NUMBER'].nunique()"
   ]
  },
  {
   "cell_type": "code",
   "execution_count": 20,
   "id": "4cfd28c1",
   "metadata": {},
   "outputs": [
    {
     "data": {
      "text/plain": [
       "1417"
      ]
     },
     "execution_count": 20,
     "metadata": {},
     "output_type": "execute_result"
    }
   ],
   "source": [
    "feb20=df.loc[(df['YEAR_NAME']==2020)&(df['MONTH_NAME']=='FEB')&(df['TYPE_OF_ACTIVITY']=='DISCONNECT')]\n",
    "feb20['ACCOUNT_NUMBER'].nunique()"
   ]
  },
  {
   "cell_type": "code",
   "execution_count": 21,
   "id": "e32d42c9",
   "metadata": {},
   "outputs": [
    {
     "data": {
      "text/plain": [
       "1306"
      ]
     },
     "execution_count": 21,
     "metadata": {},
     "output_type": "execute_result"
    }
   ],
   "source": [
    "mar20=df.loc[(df['YEAR_NAME']==2020)&(df['MONTH_NAME']=='MAR')&(df['TYPE_OF_ACTIVITY']=='DISCONNECT')]\n",
    "mar20['ACCOUNT_NUMBER'].nunique()"
   ]
  },
  {
   "cell_type": "code",
   "execution_count": 212,
   "id": "e1dd98f5",
   "metadata": {},
   "outputs": [
    {
     "data": {
      "text/html": [
       "<div>\n",
       "<style scoped>\n",
       "    .dataframe tbody tr th:only-of-type {\n",
       "        vertical-align: middle;\n",
       "    }\n",
       "\n",
       "    .dataframe tbody tr th {\n",
       "        vertical-align: top;\n",
       "    }\n",
       "\n",
       "    .dataframe thead th {\n",
       "        text-align: right;\n",
       "    }\n",
       "</style>\n",
       "<table border=\"1\" class=\"dataframe\">\n",
       "  <thead>\n",
       "    <tr style=\"text-align: right;\">\n",
       "      <th></th>\n",
       "      <th>date</th>\n",
       "      <th>connects</th>\n",
       "      <th>disconnects</th>\n",
       "    </tr>\n",
       "  </thead>\n",
       "  <tbody>\n",
       "    <tr>\n",
       "      <th>0</th>\n",
       "      <td>1/31/2019</td>\n",
       "      <td>1861</td>\n",
       "      <td>-1252</td>\n",
       "    </tr>\n",
       "    <tr>\n",
       "      <th>1</th>\n",
       "      <td>2/28/2019</td>\n",
       "      <td>2118</td>\n",
       "      <td>-1395</td>\n",
       "    </tr>\n",
       "    <tr>\n",
       "      <th>2</th>\n",
       "      <td>3/31/2019</td>\n",
       "      <td>2068</td>\n",
       "      <td>-1266</td>\n",
       "    </tr>\n",
       "    <tr>\n",
       "      <th>3</th>\n",
       "      <td>4/30/2019</td>\n",
       "      <td>2069</td>\n",
       "      <td>-1323</td>\n",
       "    </tr>\n",
       "    <tr>\n",
       "      <th>4</th>\n",
       "      <td>5/31/2019</td>\n",
       "      <td>2031</td>\n",
       "      <td>-1434</td>\n",
       "    </tr>\n",
       "  </tbody>\n",
       "</table>\n",
       "</div>"
      ],
      "text/plain": [
       "        date  connects  disconnects\n",
       "0  1/31/2019      1861        -1252\n",
       "1  2/28/2019      2118        -1395\n",
       "2  3/31/2019      2068        -1266\n",
       "3  4/30/2019      2069        -1323\n",
       "4  5/31/2019      2031        -1434"
      ]
     },
     "execution_count": 212,
     "metadata": {},
     "output_type": "execute_result"
    }
   ],
   "source": [
    "new_df=pd.read_csv('connects.csv')\n",
    "new_df.head()"
   ]
  },
  {
   "cell_type": "code",
   "execution_count": 213,
   "id": "00787019",
   "metadata": {},
   "outputs": [],
   "source": [
    "new_df = new_df.set_index('date')"
   ]
  },
  {
   "cell_type": "code",
   "execution_count": 214,
   "id": "bb46716c",
   "metadata": {},
   "outputs": [
    {
     "data": {
      "text/html": [
       "<div>\n",
       "<style scoped>\n",
       "    .dataframe tbody tr th:only-of-type {\n",
       "        vertical-align: middle;\n",
       "    }\n",
       "\n",
       "    .dataframe tbody tr th {\n",
       "        vertical-align: top;\n",
       "    }\n",
       "\n",
       "    .dataframe thead th {\n",
       "        text-align: right;\n",
       "    }\n",
       "</style>\n",
       "<table border=\"1\" class=\"dataframe\">\n",
       "  <thead>\n",
       "    <tr style=\"text-align: right;\">\n",
       "      <th></th>\n",
       "      <th>connects</th>\n",
       "      <th>disconnects</th>\n",
       "    </tr>\n",
       "    <tr>\n",
       "      <th>date</th>\n",
       "      <th></th>\n",
       "      <th></th>\n",
       "    </tr>\n",
       "  </thead>\n",
       "  <tbody>\n",
       "    <tr>\n",
       "      <th>1/31/2019</th>\n",
       "      <td>1861</td>\n",
       "      <td>-1252</td>\n",
       "    </tr>\n",
       "    <tr>\n",
       "      <th>2/28/2019</th>\n",
       "      <td>2118</td>\n",
       "      <td>-1395</td>\n",
       "    </tr>\n",
       "    <tr>\n",
       "      <th>3/31/2019</th>\n",
       "      <td>2068</td>\n",
       "      <td>-1266</td>\n",
       "    </tr>\n",
       "    <tr>\n",
       "      <th>4/30/2019</th>\n",
       "      <td>2069</td>\n",
       "      <td>-1323</td>\n",
       "    </tr>\n",
       "    <tr>\n",
       "      <th>5/31/2019</th>\n",
       "      <td>2031</td>\n",
       "      <td>-1434</td>\n",
       "    </tr>\n",
       "  </tbody>\n",
       "</table>\n",
       "</div>"
      ],
      "text/plain": [
       "           connects  disconnects\n",
       "date                            \n",
       "1/31/2019      1861        -1252\n",
       "2/28/2019      2118        -1395\n",
       "3/31/2019      2068        -1266\n",
       "4/30/2019      2069        -1323\n",
       "5/31/2019      2031        -1434"
      ]
     },
     "execution_count": 214,
     "metadata": {},
     "output_type": "execute_result"
    }
   ],
   "source": [
    "new_df.head()"
   ]
  },
  {
   "cell_type": "code",
   "execution_count": 182,
   "id": "ebb2fa42",
   "metadata": {},
   "outputs": [],
   "source": [
    "import matplotlib.pyplot as plt"
   ]
  },
  {
   "cell_type": "code",
   "execution_count": 215,
   "id": "3d4b3dac",
   "metadata": {},
   "outputs": [
    {
     "data": {
      "text/plain": [
       "<AxesSubplot:xlabel='date'>"
      ]
     },
     "execution_count": 215,
     "metadata": {},
     "output_type": "execute_result"
    },
    {
     "data": {
      "image/png": "[encoded data removed]",
      "text/plain": [
       "<Figure size 1152x576 with 1 Axes>"
      ]
     },
     "metadata": {
      "needs_background": "light"
     },
     "output_type": "display_data"
    }
   ],
   "source": [
    "temp = new_df['connects']\n",
    "temp.plot(figsize=(16,8))"
   ]
  },
  {
   "cell_type": "code",
   "execution_count": 216,
   "id": "45f8eecf",
   "metadata": {},
   "outputs": [
    {
     "data": {
      "text/plain": [
       "<AxesSubplot:xlabel='date'>"
      ]
     },
     "execution_count": 216,
     "metadata": {},
     "output_type": "execute_result"
    },
    {
     "data": {
      "image/png": "[encoded data removed]",
      "text/plain": [
       "<Figure size 1152x576 with 1 Axes>"
      ]
     },
     "metadata": {
      "needs_background": "light"
     },
     "output_type": "display_data"
    }
   ],
   "source": [
    "temp2 = new_df['disconnects']\n",
    "temp2.plot(figsize=(16,8))"
   ]
  },
  {
   "cell_type": "code",
   "execution_count": 331,
   "id": "a6de35c4",
   "metadata": {},
   "outputs": [],
   "source": [
    "import matplotlib.pyplot as plt\n",
    "from keras.models import Sequential\n",
    "from keras.layers import Dense\n",
    "from keras.layers import LSTM\n",
    "from sklearn.preprocessing import MinMaxScaler\n",
    "from sklearn.metrics import mean_squared_error\n",
    "import numpy as np"
   ]
  },
  {
   "cell_type": "code",
   "execution_count": 350,
   "id": "8c357e0e",
   "metadata": {},
   "outputs": [
    {
     "data": {
      "text/html": [
       "<div>\n",
       "<style scoped>\n",
       "    .dataframe tbody tr th:only-of-type {\n",
       "        vertical-align: middle;\n",
       "    }\n",
       "\n",
       "    .dataframe tbody tr th {\n",
       "        vertical-align: top;\n",
       "    }\n",
       "\n",
       "    .dataframe thead th {\n",
       "        text-align: right;\n",
       "    }\n",
       "</style>\n",
       "<table border=\"1\" class=\"dataframe\">\n",
       "  <thead>\n",
       "    <tr style=\"text-align: right;\">\n",
       "      <th></th>\n",
       "      <th>connects</th>\n",
       "    </tr>\n",
       "    <tr>\n",
       "      <th>date</th>\n",
       "      <th></th>\n",
       "    </tr>\n",
       "  </thead>\n",
       "  <tbody>\n",
       "    <tr>\n",
       "      <th>1/31/2019</th>\n",
       "      <td>1861</td>\n",
       "    </tr>\n",
       "    <tr>\n",
       "      <th>2/28/2019</th>\n",
       "      <td>2118</td>\n",
       "    </tr>\n",
       "    <tr>\n",
       "      <th>3/31/2019</th>\n",
       "      <td>2068</td>\n",
       "    </tr>\n",
       "    <tr>\n",
       "      <th>4/30/2019</th>\n",
       "      <td>2069</td>\n",
       "    </tr>\n",
       "    <tr>\n",
       "      <th>5/31/2019</th>\n",
       "      <td>2031</td>\n",
       "    </tr>\n",
       "    <tr>\n",
       "      <th>6/30/2019</th>\n",
       "      <td>2016</td>\n",
       "    </tr>\n",
       "    <tr>\n",
       "      <th>1/31/2020</th>\n",
       "      <td>1885</td>\n",
       "    </tr>\n",
       "    <tr>\n",
       "      <th>2/29/2020</th>\n",
       "      <td>1970</td>\n",
       "    </tr>\n",
       "    <tr>\n",
       "      <th>3/31/2020</th>\n",
       "      <td>2174</td>\n",
       "    </tr>\n",
       "  </tbody>\n",
       "</table>\n",
       "</div>"
      ],
      "text/plain": [
       "           connects\n",
       "date               \n",
       "1/31/2019      1861\n",
       "2/28/2019      2118\n",
       "3/31/2019      2068\n",
       "4/30/2019      2069\n",
       "5/31/2019      2031\n",
       "6/30/2019      2016\n",
       "1/31/2020      1885\n",
       "2/29/2020      1970\n",
       "3/31/2020      2174"
      ]
     },
     "execution_count": 350,
     "metadata": {},
     "output_type": "execute_result"
    }
   ],
   "source": [
    "connects_df = pd.DataFrame(new_df['connects'])\n",
    "connects_df "
   ]
  },
  {
   "cell_type": "code",
   "execution_count": 351,
   "id": "901fe72f",
   "metadata": {},
   "outputs": [
    {
     "data": {
      "text/plain": [
       "array([[1861],\n",
       "       [2118],\n",
       "       [2068],\n",
       "       [2069],\n",
       "       [2031],\n",
       "       [2016],\n",
       "       [1885],\n",
       "       [1970],\n",
       "       [2174]], dtype=int64)"
      ]
     },
     "execution_count": 351,
     "metadata": {},
     "output_type": "execute_result"
    }
   ],
   "source": [
    "dataset = connects_df.values\n",
    "dataset"
   ]
  },
  {
   "cell_type": "code",
   "execution_count": 352,
   "id": "c6a699e3",
   "metadata": {},
   "outputs": [],
   "source": [
    "def create_dataset(dataset,look_back=1): \n",
    "    dataX,dataY = [],[]\n",
    "    for i in range(len(dataset)-look_back-1): \n",
    "        a = dataset[i:(i+look_back),0]\n",
    "        dataX.append(a)\n",
    "        dataY.append(dataset[i+look_back,0])\n",
    "    return np.array(dataX),np.array(dataY)"
   ]
  },
  {
   "cell_type": "code",
   "execution_count": 353,
   "id": "9eedb091",
   "metadata": {},
   "outputs": [],
   "source": [
    "scaler = MinMaxScaler(feature_range=(0,1))\n",
    "dataset = scaler.fit_transform(dataset)\n"
   ]
  },
  {
   "cell_type": "code",
   "execution_count": 354,
   "id": "dcbb1c69",
   "metadata": {},
   "outputs": [],
   "source": [
    "train_size = int(len(dataset)*0.5)\n",
    "test_size = len(dataset)-train_size \n",
    "train,test = dataset[0:train_size,:],dataset[train_size:len(dataset),:]"
   ]
  },
  {
   "cell_type": "code",
   "execution_count": 355,
   "id": "86781339",
   "metadata": {},
   "outputs": [],
   "source": [
    "\n",
    "\n",
    "look_back = 1 \n",
    "trainX, trainY = create_dataset(train, look_back)\n",
    "testX,testY = create_dataset(test,look_back)\n",
    "\n",
    "trainX = np.reshape(trainX,(trainX.shape[0],1,trainX.shape[1]))\n",
    "testX = np.reshape(testX,(testX.shape[0],1,testX.shape[1]))"
   ]
  },
  {
   "cell_type": "code",
   "execution_count": 356,
   "id": "43faff0c",
   "metadata": {},
   "outputs": [
    {
     "name": "stdout",
     "output_type": "stream",
     "text": [
      "Epoch 1/100\n",
      "2/2 - 2s - loss: 0.4998 - 2s/epoch - 863ms/step\n",
      "Epoch 2/100\n",
      "2/2 - 0s - loss: 0.4953 - 4ms/epoch - 2ms/step\n",
      "Epoch 3/100\n",
      "2/2 - 0s - loss: 0.4907 - 4ms/epoch - 2ms/step\n",
      "Epoch 4/100\n",
      "2/2 - 0s - loss: 0.4861 - 6ms/epoch - 3ms/step\n",
      "Epoch 5/100\n",
      "2/2 - 0s - loss: 0.4815 - 7ms/epoch - 3ms/step\n",
      "Epoch 6/100\n",
      "2/2 - 0s - loss: 0.4770 - 7ms/epoch - 3ms/step\n",
      "Epoch 7/100\n",
      "2/2 - 0s - loss: 0.4724 - 8ms/epoch - 4ms/step\n",
      "Epoch 8/100\n",
      "2/2 - 0s - loss: 0.4680 - 6ms/epoch - 3ms/step\n",
      "Epoch 9/100\n",
      "2/2 - 0s - loss: 0.4635 - 9ms/epoch - 4ms/step\n",
      "Epoch 10/100\n",
      "2/2 - 0s - loss: 0.4591 - 5ms/epoch - 2ms/step\n",
      "Epoch 11/100\n",
      "2/2 - 0s - loss: 0.4546 - 8ms/epoch - 4ms/step\n",
      "Epoch 12/100\n",
      "2/2 - 0s - loss: 0.4502 - 5ms/epoch - 2ms/step\n",
      "Epoch 13/100\n",
      "2/2 - 0s - loss: 0.4458 - 7ms/epoch - 3ms/step\n",
      "Epoch 14/100\n",
      "2/2 - 0s - loss: 0.4414 - 5ms/epoch - 2ms/step\n",
      "Epoch 15/100\n",
      "2/2 - 0s - loss: 0.4370 - 6ms/epoch - 3ms/step\n",
      "Epoch 16/100\n",
      "2/2 - 0s - loss: 0.4327 - 10ms/epoch - 5ms/step\n",
      "Epoch 17/100\n",
      "2/2 - 0s - loss: 0.4284 - 4ms/epoch - 2ms/step\n",
      "Epoch 18/100\n",
      "2/2 - 0s - loss: 0.4242 - 9ms/epoch - 4ms/step\n",
      "Epoch 19/100\n",
      "2/2 - 0s - loss: 0.4199 - 5ms/epoch - 2ms/step\n",
      "Epoch 20/100\n",
      "2/2 - 0s - loss: 0.4156 - 10ms/epoch - 5ms/step\n",
      "Epoch 21/100\n",
      "2/2 - 0s - loss: 0.4113 - 5ms/epoch - 2ms/step\n",
      "Epoch 22/100\n",
      "2/2 - 0s - loss: 0.4073 - 7ms/epoch - 3ms/step\n",
      "Epoch 23/100\n",
      "2/2 - 0s - loss: 0.4031 - 7ms/epoch - 3ms/step\n",
      "Epoch 24/100\n",
      "2/2 - 0s - loss: 0.3988 - 5ms/epoch - 2ms/step\n",
      "Epoch 25/100\n",
      "2/2 - 0s - loss: 0.3948 - 6ms/epoch - 3ms/step\n",
      "Epoch 26/100\n",
      "2/2 - 0s - loss: 0.3907 - 6ms/epoch - 3ms/step\n",
      "Epoch 27/100\n",
      "2/2 - 0s - loss: 0.3866 - 8ms/epoch - 4ms/step\n",
      "Epoch 28/100\n",
      "2/2 - 0s - loss: 0.3825 - 4ms/epoch - 2ms/step\n",
      "Epoch 29/100\n",
      "2/2 - 0s - loss: 0.3784 - 7ms/epoch - 3ms/step\n",
      "Epoch 30/100\n",
      "2/2 - 0s - loss: 0.3744 - 4ms/epoch - 2ms/step\n",
      "Epoch 31/100\n",
      "2/2 - 0s - loss: 0.3704 - 5ms/epoch - 2ms/step\n",
      "Epoch 32/100\n",
      "2/2 - 0s - loss: 0.3665 - 5ms/epoch - 2ms/step\n",
      "Epoch 33/100\n",
      "2/2 - 0s - loss: 0.3624 - 5ms/epoch - 2ms/step\n",
      "Epoch 34/100\n",
      "2/2 - 0s - loss: 0.3586 - 6ms/epoch - 3ms/step\n",
      "Epoch 35/100\n",
      "2/2 - 0s - loss: 0.3545 - 5ms/epoch - 2ms/step\n",
      "Epoch 36/100\n",
      "2/2 - 0s - loss: 0.3508 - 7ms/epoch - 3ms/step\n",
      "Epoch 37/100\n",
      "2/2 - 0s - loss: 0.3468 - 5ms/epoch - 2ms/step\n",
      "Epoch 38/100\n",
      "2/2 - 0s - loss: 0.3430 - 8ms/epoch - 4ms/step\n",
      "Epoch 39/100\n",
      "2/2 - 0s - loss: 0.3393 - 5ms/epoch - 2ms/step\n",
      "Epoch 40/100\n",
      "2/2 - 0s - loss: 0.3353 - 9ms/epoch - 4ms/step\n",
      "Epoch 41/100\n",
      "2/2 - 0s - loss: 0.3316 - 5ms/epoch - 2ms/step\n",
      "Epoch 42/100\n",
      "2/2 - 0s - loss: 0.3280 - 9ms/epoch - 4ms/step\n",
      "Epoch 43/100\n",
      "2/2 - 0s - loss: 0.3241 - 5ms/epoch - 2ms/step\n",
      "Epoch 44/100\n",
      "2/2 - 0s - loss: 0.3206 - 5ms/epoch - 2ms/step\n",
      "Epoch 45/100\n",
      "2/2 - 0s - loss: 0.3167 - 8ms/epoch - 4ms/step\n",
      "Epoch 46/100\n",
      "2/2 - 0s - loss: 0.3132 - 5ms/epoch - 2ms/step\n",
      "Epoch 47/100\n",
      "2/2 - 0s - loss: 0.3096 - 6ms/epoch - 3ms/step\n",
      "Epoch 48/100\n",
      "2/2 - 0s - loss: 0.3059 - 5ms/epoch - 3ms/step\n",
      "Epoch 49/100\n",
      "2/2 - 0s - loss: 0.3022 - 7ms/epoch - 3ms/step\n",
      "Epoch 50/100\n",
      "2/2 - 0s - loss: 0.2986 - 5ms/epoch - 2ms/step\n",
      "Epoch 51/100\n",
      "2/2 - 0s - loss: 0.2953 - 6ms/epoch - 3ms/step\n",
      "Epoch 52/100\n",
      "2/2 - 0s - loss: 0.2918 - 4ms/epoch - 2ms/step\n",
      "Epoch 53/100\n",
      "2/2 - 0s - loss: 0.2882 - 5ms/epoch - 2ms/step\n",
      "Epoch 54/100\n",
      "2/2 - 0s - loss: 0.2848 - 5ms/epoch - 2ms/step\n",
      "Epoch 55/100\n",
      "2/2 - 0s - loss: 0.2811 - 4ms/epoch - 2ms/step\n",
      "Epoch 56/100\n",
      "2/2 - 0s - loss: 0.2777 - 7ms/epoch - 3ms/step\n",
      "Epoch 57/100\n",
      "2/2 - 0s - loss: 0.2743 - 4ms/epoch - 2ms/step\n",
      "Epoch 58/100\n",
      "2/2 - 0s - loss: 0.2710 - 8ms/epoch - 4ms/step\n",
      "Epoch 59/100\n",
      "2/2 - 0s - loss: 0.2676 - 4ms/epoch - 2ms/step\n",
      "Epoch 60/100\n",
      "2/2 - 0s - loss: 0.2646 - 7ms/epoch - 3ms/step\n",
      "Epoch 61/100\n",
      "2/2 - 0s - loss: 0.2610 - 4ms/epoch - 2ms/step\n",
      "Epoch 62/100\n",
      "2/2 - 0s - loss: 0.2577 - 5ms/epoch - 2ms/step\n",
      "Epoch 63/100\n",
      "2/2 - 0s - loss: 0.2545 - 4ms/epoch - 2ms/step\n",
      "Epoch 64/100\n",
      "2/2 - 0s - loss: 0.2516 - 5ms/epoch - 2ms/step\n",
      "Epoch 65/100\n",
      "2/2 - 0s - loss: 0.2481 - 5ms/epoch - 2ms/step\n",
      "Epoch 66/100\n",
      "2/2 - 0s - loss: 0.2449 - 4ms/epoch - 2ms/step\n",
      "Epoch 67/100\n",
      "2/2 - 0s - loss: 0.2421 - 7ms/epoch - 3ms/step\n",
      "Epoch 68/100\n",
      "2/2 - 0s - loss: 0.2386 - 5ms/epoch - 2ms/step\n",
      "Epoch 69/100\n",
      "2/2 - 0s - loss: 0.2356 - 7ms/epoch - 3ms/step\n",
      "Epoch 70/100\n",
      "2/2 - 0s - loss: 0.2328 - 4ms/epoch - 2ms/step\n",
      "Epoch 71/100\n",
      "2/2 - 0s - loss: 0.2297 - 5ms/epoch - 2ms/step\n",
      "Epoch 72/100\n",
      "2/2 - 0s - loss: 0.2267 - 5ms/epoch - 2ms/step\n",
      "Epoch 73/100\n",
      "2/2 - 0s - loss: 0.2237 - 4ms/epoch - 2ms/step\n",
      "Epoch 74/100\n",
      "2/2 - 0s - loss: 0.2207 - 5ms/epoch - 2ms/step\n",
      "Epoch 75/100\n",
      "2/2 - 0s - loss: 0.2178 - 5ms/epoch - 2ms/step\n",
      "Epoch 76/100\n",
      "2/2 - 0s - loss: 0.2146 - 8ms/epoch - 4ms/step\n",
      "Epoch 77/100\n",
      "2/2 - 0s - loss: 0.2121 - 5ms/epoch - 2ms/step\n",
      "Epoch 78/100\n",
      "2/2 - 0s - loss: 0.2089 - 8ms/epoch - 4ms/step\n",
      "Epoch 79/100\n",
      "2/2 - 0s - loss: 0.2064 - 5ms/epoch - 2ms/step\n",
      "Epoch 80/100\n",
      "2/2 - 0s - loss: 0.2036 - 6ms/epoch - 3ms/step\n",
      "Epoch 81/100\n",
      "2/2 - 0s - loss: 0.2009 - 4ms/epoch - 2ms/step\n",
      "Epoch 82/100\n",
      "2/2 - 0s - loss: 0.1981 - 4ms/epoch - 2ms/step\n",
      "Epoch 83/100\n",
      "2/2 - 0s - loss: 0.1951 - 5ms/epoch - 2ms/step\n",
      "Epoch 84/100\n",
      "2/2 - 0s - loss: 0.1928 - 5ms/epoch - 2ms/step\n",
      "Epoch 85/100\n",
      "2/2 - 0s - loss: 0.1898 - 5ms/epoch - 2ms/step\n",
      "Epoch 86/100\n",
      "2/2 - 0s - loss: 0.1872 - 4ms/epoch - 2ms/step\n",
      "Epoch 87/100\n",
      "2/2 - 0s - loss: 0.1847 - 9ms/epoch - 4ms/step\n",
      "Epoch 88/100\n",
      "2/2 - 0s - loss: 0.1825 - 4ms/epoch - 2ms/step\n",
      "Epoch 89/100\n",
      "2/2 - 0s - loss: 0.1799 - 8ms/epoch - 4ms/step\n",
      "Epoch 90/100\n",
      "2/2 - 0s - loss: 0.1771 - 5ms/epoch - 2ms/step\n",
      "Epoch 91/100\n",
      "2/2 - 0s - loss: 0.1750 - 6ms/epoch - 3ms/step\n",
      "Epoch 92/100\n",
      "2/2 - 0s - loss: 0.1725 - 4ms/epoch - 2ms/step\n",
      "Epoch 93/100\n",
      "2/2 - 0s - loss: 0.1701 - 5ms/epoch - 2ms/step\n",
      "Epoch 94/100\n",
      "2/2 - 0s - loss: 0.1673 - 5ms/epoch - 2ms/step\n",
      "Epoch 95/100\n",
      "2/2 - 0s - loss: 0.1650 - 4ms/epoch - 2ms/step\n",
      "Epoch 96/100\n",
      "2/2 - 0s - loss: 0.1627 - 9ms/epoch - 4ms/step\n",
      "Epoch 97/100\n",
      "2/2 - 0s - loss: 0.1605 - 4ms/epoch - 2ms/step\n",
      "Epoch 98/100\n",
      "2/2 - 0s - loss: 0.1582 - 8ms/epoch - 4ms/step\n",
      "Epoch 99/100\n",
      "2/2 - 0s - loss: 0.1564 - 5ms/epoch - 2ms/step\n",
      "Epoch 100/100\n",
      "2/2 - 0s - loss: 0.1538 - 6ms/epoch - 3ms/step\n"
     ]
    },
    {
     "data": {
      "text/plain": [
       "<keras.callbacks.History at 0x29b42cb2d00>"
      ]
     },
     "execution_count": 356,
     "metadata": {},
     "output_type": "execute_result"
    }
   ],
   "source": [
    "# building and Training LSTM model \n",
    "\n",
    "model = Sequential()\n",
    "model.add(LSTM(4,input_shape=(1,look_back)))\n",
    "model.add(Dense(1))\n",
    "model.compile(loss='mean_squared_error',optimizer='adam')\n",
    "model.fit(trainX,trainY,epochs=100,batch_size=1,verbose=2)"
   ]
  },
  {
   "cell_type": "code",
   "execution_count": 357,
   "id": "74ab94ad",
   "metadata": {},
   "outputs": [],
   "source": [
    "trainPredict = model.predict(trainX)\n",
    "testPredict = model.predict(testX)"
   ]
  },
  {
   "cell_type": "code",
   "execution_count": 358,
   "id": "8fb5dc4c",
   "metadata": {},
   "outputs": [],
   "source": [
    "trainPredict = scaler.inverse_transform(trainPredict)\n",
    "trainY = scaler.inverse_transform([trainY])\n",
    "testPredict = scaler.inverse_transform(testPredict)\n",
    "testY = scaler.inverse_transform([testY])"
   ]
  },
  {
   "cell_type": "code",
   "execution_count": 359,
   "id": "6da7c67f",
   "metadata": {},
   "outputs": [
    {
     "name": "stdout",
     "output_type": "stream",
     "text": [
      "Train Score:122.17 RMSE\n",
      "Test Score:65.17 RMSE\n"
     ]
    }
   ],
   "source": [
    "# calculate root mean squared error \n",
    "import math\n",
    "trainScore = math.sqrt(mean_squared_error(trainY[0],trainPredict[:,0]))\n",
    "print('Train Score:%.2f RMSE'%(trainScore))\n",
    "\n",
    "testScore = math.sqrt(mean_squared_error(testY[0],testPredict[:,0]))\n",
    "print('Test Score:%.2f RMSE'%(testScore))"
   ]
  },
  {
   "cell_type": "code",
   "execution_count": 360,
   "id": "6261fc02",
   "metadata": {},
   "outputs": [],
   "source": [
    "trainPredictPlot = np.empty_like(dataset)\n",
    "trainPredictPlot[:,:]=np.nan\n",
    "trainPredictPlot[look_back:len(trainPredict)+look_back,:]=trainPredict"
   ]
  },
  {
   "cell_type": "code",
   "execution_count": 361,
   "id": "cfafc972",
   "metadata": {},
   "outputs": [],
   "source": [
    "testPredictPlot = np.empty_like(dataset)\n",
    "testPredictPlot[:,:] =np.nan \n",
    "testPredictPlot[len(trainPredict)+(look_back*2)+1:len(dataset)-1,:]=testPredict "
   ]
  },
  {
   "cell_type": "code",
   "execution_count": 362,
   "id": "ced511e7",
   "metadata": {},
   "outputs": [
    {
     "data": {
      "image/png": "[encoded data removed]",
      "text/plain": [
       "<Figure size 432x288 with 1 Axes>"
      ]
     },
     "metadata": {
      "needs_background": "light"
     },
     "output_type": "display_data"
    }
   ],
   "source": [
    "plt.plot(scaler.inverse_transform(dataset),color='blue')\n",
    "plt.plot(trainPredictPlot,color='orange')\n",
    "plt.plot(testPredictPlot,color='green')\n",
    "plt.show()"
   ]
  }
 ],
 "metadata": {
  "kernelspec": {
   "display_name": "Python 3 (ipykernel)",
   "language": "python",
   "name": "python3"
  },
  "language_info": {
   "codemirror_mode": {
    "name": "ipython",
    "version": 3
   },
   "file_extension": ".py",
   "mimetype": "text/x-python",
   "name": "python",
   "nbconvert_exporter": "python",
   "pygments_lexer": "ipython3",
   "version": "3.8.8"
  }
 },
 "nbformat": 4,
 "nbformat_minor": 5
}
